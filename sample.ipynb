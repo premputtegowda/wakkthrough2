{
 "cells": [
  {
   "cell_type": "markdown",
   "id": "9ce2c515-8653-4a38-a627-b52dff904ed7",
   "metadata": {},
   "source": [
    "# Walkthrough Sample Notebook"
   ]
  },
  {
   "cell_type": "code",
   "execution_count": 1,
   "id": "9243af40-6388-45e4-bc88-f3c4f7bbcc6f",
   "metadata": {},
   "outputs": [
    {
     "data": {
      "text/plain": [
       "2"
      ]
     },
     "execution_count": 1,
     "metadata": {},
     "output_type": "execute_result"
    }
   ],
   "source": [
    "1 + 1\n"
   ]
  },
  {
   "cell_type": "code",
   "execution_count": 3,
   "id": "91d1e8fc-b95d-481f-a6f6-531b32813aa5",
   "metadata": {},
   "outputs": [],
   "source": [
    "from numpy import *"
   ]
  },
  {
   "cell_type": "markdown",
   "id": "101469fd-5080-44ee-8803-31ca7bb0ee77",
   "metadata": {},
   "source": [
    "This is how calculate `sin`"
   ]
  },
  {
   "cell_type": "code",
   "execution_count": 5,
   "id": "c1d12a9d-c18e-4ee4-9248-c85769a1c4a3",
   "metadata": {},
   "outputs": [],
   "source": [
    "a = array([1.0, pi/2])"
   ]
  },
  {
   "cell_type": "code",
   "execution_count": 8,
   "id": "715d2a10-8dc0-4fd5-88c9-e82fea3c8c23",
   "metadata": {},
   "outputs": [
    {
     "data": {
      "text/plain": [
       "array([0.84147098, 1.        ])"
      ]
     },
     "execution_count": 8,
     "metadata": {},
     "output_type": "execute_result"
    }
   ],
   "source": [
    "sin(a)"
   ]
  }
 ],
 "metadata": {
  "kernelspec": {
   "display_name": "Python 3 (ipykernel)",
   "language": "python",
   "name": "python3"
  },
  "language_info": {
   "codemirror_mode": {
    "name": "ipython",
    "version": 3
   },
   "file_extension": ".py",
   "mimetype": "text/x-python",
   "name": "python",
   "nbconvert_exporter": "python",
   "pygments_lexer": "ipython3",
   "version": "3.10.6"
  }
 },
 "nbformat": 4,
 "nbformat_minor": 5
}
